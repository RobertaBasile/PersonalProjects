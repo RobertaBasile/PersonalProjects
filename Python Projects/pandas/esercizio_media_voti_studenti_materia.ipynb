{
 "cells": [
  {
   "cell_type": "markdown",
   "metadata": {},
   "source": [
    "# ESERCIZIO \n",
    "- MEDIA VOTI PER STUDENTI E \n",
    "- MEDIA DEI VOTI DI OGNI MATERIA\n"
   ]
  },
  {
   "cell_type": "code",
   "execution_count": null,
   "metadata": {},
   "outputs": [],
   "source": [
    "import numpy as np\n",
    "import pandas as pd"
   ]
  },
  {
   "cell_type": "code",
   "execution_count": null,
   "metadata": {},
   "outputs": [],
   "source": [
    "data = {\n",
    "'Student': ['Alice', 'Bob', 'Charlie', 'Alice', 'Bob', 'Charlie', 'Alice', 'Bob', 'Charlie'],\n",
    "'Subject': ['Math', 'Math', 'Math', 'Science', 'Science', 'Science', 'English', 'English', 'English'],\n",
    "'Score': [85, 90, 95, 80, 70, 75, 88, 92, 85]\n",
    "}\n",
    "df = pd.DataFrame(data)\n",
    "df"
   ]
  },
  {
   "cell_type": "code",
   "execution_count": null,
   "metadata": {},
   "outputs": [],
   "source": [
    "# Calcolare la media dei voti per ogni materia \n",
    "media_per_materia = df.groupby('Subject')['Score'].mean().reset_index() \n",
    "print(\"\\nMedia dei voti per ogni materia:\") \n",
    "print(media_per_materia)"
   ]
  },
  {
   "cell_type": "code",
   "execution_count": null,
   "metadata": {},
   "outputs": [],
   "source": [
    "# Calcolare la media dei voti di ogni studente \n",
    "media_per_studente = df.groupby('Student')['Score'].mean().reset_index() \n",
    "print(\"\\nMedia dei voti di ogni studente:\") \n",
    "print(media_per_studente)"
   ]
  },
  {
   "cell_type": "code",
   "execution_count": null,
   "metadata": {},
   "outputs": [],
   "source": [
    "# Calcolare la media di ogni studente in ogni materia \n",
    "# utilizzo groupby e mean per calcolare la media dei voti di ogni studente in ogni materia, \n",
    "# quindi utilizzo unstack per trasformare il risultato in un formato più leggibile e resetta l'indice.\n",
    "media_studente_materia = df.groupby(['Student', 'Subject'])['Score'].mean().unstack().reset_index() \n",
    "print(\"\\nMedia di ogni studente in ogni materia:\") \n",
    "print(media_studente_materia)"
   ]
  }
 ],
 "metadata": {
  "kernelspec": {
   "display_name": "Python 3",
   "language": "python",
   "name": "python3"
  },
  "language_info": {
   "codemirror_mode": {
    "name": "ipython",
    "version": 3
   },
   "file_extension": ".py",
   "mimetype": "text/x-python",
   "name": "python",
   "nbconvert_exporter": "python",
   "pygments_lexer": "ipython3",
   "version": "3.13.0"
  }
 },
 "nbformat": 4,
 "nbformat_minor": 2
}
