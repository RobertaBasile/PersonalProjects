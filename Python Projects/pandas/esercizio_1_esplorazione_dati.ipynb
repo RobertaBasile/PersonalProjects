{
 "cells": [
  {
   "cell_type": "code",
   "execution_count": 3,
   "metadata": {},
   "outputs": [],
   "source": [
    "# # Analisi Esplorativa dei Dati\n",
    "\n",
    "# Obiettivo: Familiarizzare con le operazioni di base per l'esplorazione dei dati\n",
    "# usando pandas.\n",
    "\n",
    "# Dataset: Utilizzare un dataset di esempio che include le seguenti informazioni su\n",
    "# un gruppo di persone: Nome, Età, Città e Salario. \n",
    "\n",
    "# Caricare i dati in un DataFrame autogenerandoli casualmente .\n",
    "# Visualizzare le prime e le ultime cinque righe del DataFrame.\n",
    "# Visualizzare il tipo di dati di ciascuna colonna.\n",
    "# Calcolare statistiche descrittive di base per le colonne numeriche (media,\n",
    "# mediana, deviazione standard).\n",
    "# Identificare e rimuovere eventuali duplicati.\n",
    "# Gestire i valori mancanti sostituendoli con la mediana della rispettiva\n",
    "# colonna.\n",
    "# Aggiungere una nuova colonna chiamata \"Categoria Età\" che classifica le\n",
    "# persone come \"Giovane\", \"Adulto\" o \"Senior\" basandosi sull'età (es., 0-18\n",
    "# anni: Giovane, 19-65 anni: Adulto, oltre 65 anni: Senior).\n",
    "# Salvare il DataFrame pulito in un nuovo file CSV.\n"
   ]
  },
  {
   "cell_type": "code",
   "execution_count": 4,
   "metadata": {},
   "outputs": [],
   "source": [
    "import pandas as pd\n",
    "import numpy as np"
   ]
  },
  {
   "cell_type": "code",
   "execution_count": null,
   "metadata": {},
   "outputs": [],
   "source": [
    "# Generare dati casuali\n",
    "np.random.seed(50)\n",
    "nomi = ['Alice', 'Bob', 'Charlie', 'David', 'Eva', 'Frank', 'Grace', 'Hannah', 'Ivan', 'Julia']\n",
    "eta = np.random.randint(18, 80, size=10)\n",
    "citta = ['Roma', 'Milano', 'Napoli', 'Torino', 'Palermo', 'Genova', 'Bologna', 'Firenze', 'Venezia', 'Verona']\n",
    "salario = np.random.randint(20000, 100000, size=10)"
   ]
  },
  {
   "cell_type": "code",
   "execution_count": 6,
   "metadata": {},
   "outputs": [],
   "source": [
    "# Creare il DataFrame\n",
    "df = pd.DataFrame({\n",
    "    'Nome': nomi,\n",
    "    'Età': eta,\n",
    "    'Città': citta,\n",
    "    'Salario': salario\n",
    "})"
   ]
  },
  {
   "cell_type": "code",
   "execution_count": 7,
   "metadata": {},
   "outputs": [
    {
     "name": "stdout",
     "output_type": "stream",
     "text": [
      "Prime cinque righe del DataFrame:\n",
      "      Nome  Età    Città  Salario\n",
      "0    Alice   62     Roma    75026\n",
      "1      Bob   65   Milano    68600\n",
      "2  Charlie   71   Napoli    59512\n",
      "3    David   18   Torino    72620\n",
      "4      Eva   21  Palermo    37089\n"
     ]
    }
   ],
   "source": [
    "# Visualizzare le prime e le ultime cinque righe del DataFrame\n",
    "print(\"Prime cinque righe del DataFrame:\")\n",
    "print(df.head())"
   ]
  },
  {
   "cell_type": "code",
   "execution_count": 8,
   "metadata": {},
   "outputs": [
    {
     "name": "stdout",
     "output_type": "stream",
     "text": [
      "\n",
      "Ultime cinque righe del DataFrame:\n",
      "     Nome  Età    Città  Salario\n",
      "5   Frank   77   Genova    52230\n",
      "6   Grace   21  Bologna    38983\n",
      "7  Hannah   57  Firenze    26921\n",
      "8    Ivan   27  Venezia    58804\n",
      "9   Julia   37   Verona    87699\n"
     ]
    }
   ],
   "source": [
    "print(\"\\nUltime cinque righe del DataFrame:\")\n",
    "print(df.tail())"
   ]
  },
  {
   "cell_type": "code",
   "execution_count": 9,
   "metadata": {},
   "outputs": [
    {
     "name": "stdout",
     "output_type": "stream",
     "text": [
      "\n",
      "Tipo di dati di ciascuna colonna:\n",
      "Nome       object\n",
      "Età         int32\n",
      "Città      object\n",
      "Salario     int32\n",
      "dtype: object\n"
     ]
    }
   ],
   "source": [
    "# Visualizzare il tipo di dati di ciascuna colonna\n",
    "print(\"\\nTipo di dati di ciascuna colonna:\")\n",
    "print(df.dtypes)"
   ]
  },
  {
   "cell_type": "code",
   "execution_count": 10,
   "metadata": {},
   "outputs": [
    {
     "name": "stdout",
     "output_type": "stream",
     "text": [
      "\n",
      "Statistiche descrittive di base:\n",
      "             Età       Salario\n",
      "count  10.000000     10.000000\n",
      "mean   45.600000  57748.400000\n",
      "std    23.090161  19143.994017\n",
      "min    18.000000  26921.000000\n",
      "25%    22.500000  42294.750000\n",
      "50%    47.000000  59158.000000\n",
      "75%    64.250000  71615.000000\n",
      "max    77.000000  87699.000000\n"
     ]
    }
   ],
   "source": [
    "# Calcolare statistiche descrittive di base per le colonne numeriche\n",
    "print(\"\\nStatistiche descrittive di base:\")\n",
    "print(df.describe())"
   ]
  },
  {
   "cell_type": "code",
   "execution_count": 11,
   "metadata": {},
   "outputs": [
    {
     "name": "stdout",
     "output_type": "stream",
     "text": [
      "\n",
      "Rimozione dei duplicati (se presenti):\n",
      "      Nome  Età    Città  Salario\n",
      "0    Alice   62     Roma    75026\n",
      "1      Bob   65   Milano    68600\n",
      "2  Charlie   71   Napoli    59512\n",
      "3    David   18   Torino    72620\n",
      "4      Eva   21  Palermo    37089\n",
      "5    Frank   77   Genova    52230\n",
      "6    Grace   21  Bologna    38983\n",
      "7   Hannah   57  Firenze    26921\n",
      "8     Ivan   27  Venezia    58804\n",
      "9    Julia   37   Verona    87699\n"
     ]
    }
   ],
   "source": [
    "# Identificare e rimuovere eventuali duplicati\n",
    "print(\"\\nRimozione dei duplicati (se presenti):\")\n",
    "df = df.drop_duplicates()\n",
    "print(df)"
   ]
  },
  {
   "cell_type": "code",
   "execution_count": 12,
   "metadata": {},
   "outputs": [
    {
     "name": "stdout",
     "output_type": "stream",
     "text": [
      "\n",
      "DataFrame con valori mancanti:\n",
      "      Nome   Età    Città  Salario\n",
      "0    Alice  62.0     Roma  75026.0\n",
      "1      Bob  65.0   Milano  68600.0\n",
      "2  Charlie  71.0   Napoli      NaN\n",
      "3    David  18.0   Torino  72620.0\n",
      "4      Eva  21.0  Palermo  37089.0\n",
      "5    Frank   NaN   Genova  52230.0\n",
      "6    Grace  21.0  Bologna  38983.0\n",
      "7   Hannah  57.0  Firenze  26921.0\n",
      "8     Ivan  27.0  Venezia  58804.0\n",
      "9    Julia  37.0   Verona  87699.0\n"
     ]
    }
   ],
   "source": [
    "# Gestire i valori mancanti sostituendoli con la mediana della rispettiva colonna\n",
    "# Aggiungiamo alcuni valori mancanti per dimostrazione\n",
    "df.loc[2, 'Salario'] = np.nan\n",
    "df.loc[5, 'Età'] = np.nan\n",
    "\n",
    "print(\"\\nDataFrame con valori mancanti:\")\n",
    "print(df)"
   ]
  },
  {
   "cell_type": "code",
   "execution_count": 13,
   "metadata": {},
   "outputs": [
    {
     "name": "stderr",
     "output_type": "stream",
     "text": [
      "C:\\Users\\ROBERTA\\AppData\\Local\\Temp\\ipykernel_42952\\2526195733.py:1: FutureWarning: A value is trying to be set on a copy of a DataFrame or Series through chained assignment using an inplace method.\n",
      "The behavior will change in pandas 3.0. This inplace method will never work because the intermediate object on which we are setting values always behaves as a copy.\n",
      "\n",
      "For example, when doing 'df[col].method(value, inplace=True)', try using 'df.method({col: value}, inplace=True)' or df[col] = df[col].method(value) instead, to perform the operation inplace on the original object.\n",
      "\n",
      "\n",
      "  df['Salario'].fillna(df['Salario'].median(), inplace=True)\n",
      "C:\\Users\\ROBERTA\\AppData\\Local\\Temp\\ipykernel_42952\\2526195733.py:2: FutureWarning: A value is trying to be set on a copy of a DataFrame or Series through chained assignment using an inplace method.\n",
      "The behavior will change in pandas 3.0. This inplace method will never work because the intermediate object on which we are setting values always behaves as a copy.\n",
      "\n",
      "For example, when doing 'df[col].method(value, inplace=True)', try using 'df.method({col: value}, inplace=True)' or df[col] = df[col].method(value) instead, to perform the operation inplace on the original object.\n",
      "\n",
      "\n",
      "  df['Età'].fillna(df['Età'].median(), inplace=True)\n"
     ]
    }
   ],
   "source": [
    "df['Salario'].fillna(df['Salario'].median(), inplace=True)\n",
    "df['Età'].fillna(df['Età'].median(), inplace=True)"
   ]
  },
  {
   "cell_type": "code",
   "execution_count": 14,
   "metadata": {},
   "outputs": [
    {
     "name": "stdout",
     "output_type": "stream",
     "text": [
      "\n",
      "DataFrame dopo la sostituzione dei valori mancanti con la mediana:\n",
      "      Nome   Età    Città  Salario\n",
      "0    Alice  62.0     Roma  75026.0\n",
      "1      Bob  65.0   Milano  68600.0\n",
      "2  Charlie  71.0   Napoli  58804.0\n",
      "3    David  18.0   Torino  72620.0\n",
      "4      Eva  21.0  Palermo  37089.0\n",
      "5    Frank  37.0   Genova  52230.0\n",
      "6    Grace  21.0  Bologna  38983.0\n",
      "7   Hannah  57.0  Firenze  26921.0\n",
      "8     Ivan  27.0  Venezia  58804.0\n",
      "9    Julia  37.0   Verona  87699.0\n"
     ]
    }
   ],
   "source": [
    "\n",
    "print(\"\\nDataFrame dopo la sostituzione dei valori mancanti con la mediana:\")\n",
    "print(df)"
   ]
  },
  {
   "cell_type": "code",
   "execution_count": 15,
   "metadata": {},
   "outputs": [],
   "source": [
    "# Aggiungere una nuova colonna chiamata \"Categoria Età\"\n",
    "def categorizza_eta(eta):\n",
    "    if eta <= 18:\n",
    "        return 'Giovane'\n",
    "    elif 19 <= eta <= 65:\n",
    "        return 'Adulto'\n",
    "    else:\n",
    "        return 'Senior'"
   ]
  },
  {
   "cell_type": "code",
   "execution_count": 16,
   "metadata": {},
   "outputs": [],
   "source": [
    "df['Categoria Età'] = df['Età'].apply(categorizza_eta)"
   ]
  },
  {
   "cell_type": "code",
   "execution_count": 17,
   "metadata": {},
   "outputs": [
    {
     "name": "stdout",
     "output_type": "stream",
     "text": [
      "\n",
      "DataFrame con la nuova colonna 'Categoria Età':\n",
      "      Nome   Età    Città  Salario Categoria Età\n",
      "0    Alice  62.0     Roma  75026.0        Adulto\n",
      "1      Bob  65.0   Milano  68600.0        Adulto\n",
      "2  Charlie  71.0   Napoli  58804.0        Senior\n",
      "3    David  18.0   Torino  72620.0       Giovane\n",
      "4      Eva  21.0  Palermo  37089.0        Adulto\n",
      "5    Frank  37.0   Genova  52230.0        Adulto\n",
      "6    Grace  21.0  Bologna  38983.0        Adulto\n",
      "7   Hannah  57.0  Firenze  26921.0        Adulto\n",
      "8     Ivan  27.0  Venezia  58804.0        Adulto\n",
      "9    Julia  37.0   Verona  87699.0        Adulto\n"
     ]
    }
   ],
   "source": [
    "print(\"\\nDataFrame con la nuova colonna 'Categoria Età':\")\n",
    "print(df)"
   ]
  },
  {
   "cell_type": "code",
   "execution_count": 18,
   "metadata": {},
   "outputs": [
    {
     "name": "stdout",
     "output_type": "stream",
     "text": [
      "\n",
      "DataFrame pulito salvato in 'dataframe_pulito.csv'\n"
     ]
    }
   ],
   "source": [
    "# Salvare il DataFrame pulito in un nuovo file CSV\n",
    "df.to_csv('dataframe_pulito.csv', index=False)\n",
    "print(\"\\nDataFrame pulito salvato in 'dataframe_pulito.csv'\")"
   ]
  },
  {
   "cell_type": "code",
   "execution_count": 19,
   "metadata": {},
   "outputs": [],
   "source": [
    "df.to_html('dataframe_pulito.html', index=False)"
   ]
  }
 ],
 "metadata": {
  "kernelspec": {
   "display_name": "Python 3",
   "language": "python",
   "name": "python3"
  },
  "language_info": {
   "codemirror_mode": {
    "name": "ipython",
    "version": 3
   },
   "file_extension": ".py",
   "mimetype": "text/x-python",
   "name": "python",
   "nbconvert_exporter": "python",
   "pygments_lexer": "ipython3",
   "version": "3.13.0"
  }
 },
 "nbformat": 4,
 "nbformat_minor": 2
}
