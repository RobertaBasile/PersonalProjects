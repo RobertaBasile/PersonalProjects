{
 "cells": [
  {
   "cell_type": "code",
   "execution_count": 1,
   "metadata": {},
   "outputs": [
    {
     "name": "stdout",
     "output_type": "stream",
     "text": [
      "   Colonna 1  Colonna 2  Colonna 3\n",
      "0         61         28         20\n",
      "1        100         14         49\n",
      "2         52         87         58\n",
      "3         91         14         55\n",
      "4         91         44         65\n",
      "5          8         34         62\n",
      "6         79         31         66\n",
      "7         11         30         22\n",
      "8         61         94         73\n",
      "9         16          5         66\n"
     ]
    }
   ],
   "source": [
    "import numpy as np\n",
    "import pandas as pd\n",
    "# Creazione di un DataFrame di 10 righe e 3 colonne \n",
    "# con numeri casuali\n",
    "data = np.random.randint(1, 101, size=(10, 3))\n",
    "df = pd.DataFrame(data, columns=['Colonna 1', 'Colonna 2', 'Colonna 3'])\n",
    "\n",
    "# Stampa del DataFrame\n",
    "print(df)"
   ]
  }
 ],
 "metadata": {
  "kernelspec": {
   "display_name": "Python 3",
   "language": "python",
   "name": "python3"
  },
  "language_info": {
   "codemirror_mode": {
    "name": "ipython",
    "version": 3
   },
   "file_extension": ".py",
   "mimetype": "text/x-python",
   "name": "python",
   "nbconvert_exporter": "python",
   "pygments_lexer": "ipython3",
   "version": "3.13.0"
  }
 },
 "nbformat": 4,
 "nbformat_minor": 2
}
