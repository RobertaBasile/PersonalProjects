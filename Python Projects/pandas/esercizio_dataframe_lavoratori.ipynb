{
 "cells": [
  {
   "cell_type": "markdown",
   "metadata": {},
   "source": [
    "# ESERCIZIO DATAFRAME LAVORATORI\n",
    "- la media dello stipendio e dell'esperienza per ogni dipartimento\n",
    "- trovare i dipendenti con uno stipendio sopra la media all'interno del loro dipartimento\n",
    "- aggiungere una nuova colonna che rappresenta il rank (consiglio cercate la funzione rank di pandas) di ogni dipendente all'interno del suo dipartimento\n",
    "- Mostrare il fataframe raggruppato per dipartimento e ogni dipendente in ordine dal rank più alto al più basso\n",
    "- rank in base allo stipendio"
   ]
  },
  {
   "cell_type": "code",
   "execution_count": null,
   "metadata": {},
   "outputs": [],
   "source": [
    "# la media dello stipendio e dell'esperienza per ogni dipartimento\n",
    "\n",
    "# trovare i dipendenti con uno stipendio sopra la media all'interno del loro dipartimento\n",
    "\n",
    "# aggiungere una nuova colonna che rappresenta il rank (consiglio cercate la funzione rank di pandas) di ogni dipendente all'interno del suo dipartimento\n",
    "\n",
    "# Mostrare il fataframe raggruppato per dipartimento e ogni dipendente in ordine dal rank più alto al più basso\n",
    "\n",
    "# rank in base allo stipendio"
   ]
  },
  {
   "cell_type": "code",
   "execution_count": null,
   "metadata": {},
   "outputs": [],
   "source": [
    "import pandas as pd\n",
    "import numpy as np\n",
    "\n",
    "# Larger employee dataset\n",
    "data = {\n",
    "'Name': ['Alice', 'Bob', 'Charlie', 'David', 'Eva', 'Frank', 'Grace', 'Hannah', 'Ian', 'Jack', 'Kara', 'Liam'],\n",
    "'Department': ['HR', 'Finance', 'IT', 'HR', 'Finance', 'IT', 'HR', 'Finance', 'IT', 'HR', 'Finance', 'IT'],\n",
    "'Salary': [50000, 60000, 70000, 52000, 58000, 72000, 55000, 62000, 75000, 51000, 63000, 76000],\n",
    "'Experience': [2, 5, 8, 3, 4, 10, 4, 6, 12, 1, 7, 15]\n",
    "}\n",
    "df = pd.DataFrame(data)"
   ]
  },
  {
   "cell_type": "code",
   "execution_count": null,
   "metadata": {},
   "outputs": [],
   "source": [
    "# Calcolare la media dello stipendio e dell'esperienza per ogni dipartimento\n",
    "media_stipendio_esperienza = df.groupby('Department')[['Salary', 'Experience']].mean().reset_index()\n",
    "print(\"\\nMedia dello stipendio e dell'esperienza per ogni dipartimento:\")\n",
    "print(media_stipendio_esperienza)\n"
   ]
  },
  {
   "cell_type": "code",
   "execution_count": null,
   "metadata": {},
   "outputs": [],
   "source": [
    "# Trovare i dipendenti con uno stipendio sopra la media all'interno del loro dipartimento\n",
    "media_stipendio_dipartimento = df.groupby('Department')['Salary'].transform('mean')\n",
    "dipendenti_sopra_media_dipartimento = df[df['Salary'] > media_stipendio_dipartimento]\n",
    "print(\"\\nDipendenti con uno stipendio sopra la media all'interno del loro dipartimento:\")\n",
    "print(dipendenti_sopra_media_dipartimento)\n",
    "\n"
   ]
  },
  {
   "cell_type": "code",
   "execution_count": null,
   "metadata": {},
   "outputs": [],
   "source": [
    "# Aggiungere una nuova colonna che rappresenta il rank di ogni dipendente all'interno del suo dipartimento\n",
    "df['Rank'] = df.groupby('Department')['Salary'].rank(ascending=False)\n",
    "print(\"\\nDataFrame con la colonna 'Rank':\")\n",
    "print(df)\n"
   ]
  },
  {
   "cell_type": "code",
   "execution_count": null,
   "metadata": {},
   "outputs": [],
   "source": [
    "# Mostrare il DataFrame raggruppato per dipartimento e ogni dipendente in ordine dal rank più alto al più basso\n",
    "df_ordinato = df.sort_values(by=['Department', 'Rank'])\n",
    "print(\"\\nDataFrame raggruppato per dipartimento e ordinato per rank:\")\n",
    "print(df_ordinato)\n"
   ]
  }
 ],
 "metadata": {
  "kernelspec": {
   "display_name": "Python 3",
   "language": "python",
   "name": "python3"
  },
  "language_info": {
   "codemirror_mode": {
    "name": "ipython",
    "version": 3
   },
   "file_extension": ".py",
   "mimetype": "text/x-python",
   "name": "python",
   "nbconvert_exporter": "python",
   "pygments_lexer": "ipython3",
   "version": "3.13.0"
  }
 },
 "nbformat": 4,
 "nbformat_minor": 2
}
