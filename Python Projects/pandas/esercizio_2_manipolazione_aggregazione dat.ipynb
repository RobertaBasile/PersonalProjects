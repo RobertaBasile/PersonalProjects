{
 "cells": [
  {
   "cell_type": "code",
   "execution_count": null,
   "metadata": {},
   "outputs": [],
   "source": [
    "# Manipolazione e Aggregazione dei Dati\n",
    "\n",
    "\n",
    "\n",
    "# Obiettivo: Approfondire le capacità di manipolazione e aggregazione dei dati con\n",
    "# pandas.\n",
    "\n",
    "\n",
    "\n",
    "# Dataset: Utilizzare un dataset che registra le vendite di prodotti in diverse\n",
    "# città, includendo le colonne Prodotto, Quantità, Prezzo Unitario e Città.\n",
    "\n",
    "\n",
    "\n",
    "# Caricare i dati in un DataFrame.\n",
    "# Aggiungere una colonna \"Totale Vendite\" che sia il risultato del prodotto tra\n",
    "# Quantità e Prezzo Unitario.\n",
    "# Raggruppare i dati per Prodotto e calcolare il totale delle vendite per\n",
    "# ciascun prodotto.\n",
    "# Trovare il prodotto più venduto in termini di Quantità.\n",
    "# Identificare la città con il maggior volume di vendite totali.\n",
    "# Creare un nuovo DataFrame che mostri solo le vendite superiori a un certo\n",
    "# valore (es., 1000 euro).\n",
    "# Ordinare il DataFrame originale per la colonna \"Totale Vendite\" in ordine\n",
    "# decrescente.\n",
    "# Visualizzare il numero di vendite per ogni città."
   ]
  },
  {
   "cell_type": "code",
   "execution_count": 1,
   "metadata": {},
   "outputs": [
    {
     "name": "stdout",
     "output_type": "stream",
     "text": [
      "DataFrame originale:\n",
      "      Prodotto  Quantità  Prezzo Unitario    Città\n",
      "0   Prodotto B        13               30  Palermo\n",
      "1   Prodotto B        16               90  Firenze\n",
      "2   Prodotto D         1               79   Torino\n",
      "3   Prodotto D         4               89   Napoli\n",
      "4   Prodotto C         4               57  Firenze\n",
      "5   Prodotto D         8               74   Napoli\n",
      "6   Prodotto A        10               92     Roma\n",
      "7   Prodotto D        19               98     Roma\n",
      "8   Prodotto E         5               59  Palermo\n",
      "9   Prodotto B         7               39   Genova\n",
      "10  Prodotto C        13               29   Genova\n",
      "11  Prodotto E         2               29  Bologna\n",
      "12  Prodotto D         7               24  Venezia\n",
      "13  Prodotto E         8               49  Palermo\n",
      "14  Prodotto E        15               42   Milano\n",
      "15  Prodotto E        18               75  Palermo\n",
      "16  Prodotto D         6               19   Verona\n",
      "17  Prodotto E        14               67  Venezia\n",
      "18  Prodotto E         9               42   Milano\n",
      "19  Prodotto E        10               41   Milano\n"
     ]
    }
   ],
   "source": [
    "import pandas as pd\n",
    "import numpy as np\n",
    "\n",
    "# Generare dati casuali\n",
    "np.random.seed(0)\n",
    "prodotti = ['Prodotto A', 'Prodotto B', 'Prodotto C', 'Prodotto D', 'Prodotto E']\n",
    "quantita = np.random.randint(1, 20, size=20)\n",
    "prezzo_unitario = np.random.randint(10, 100, size=20)\n",
    "citta = ['Roma', 'Milano', 'Napoli', 'Torino', 'Palermo', 'Genova', 'Bologna', 'Firenze', 'Venezia', 'Verona']\n",
    "citta = np.random.choice(citta, size=20)\n",
    "\n",
    "# Creare il DataFrame\n",
    "df = pd.DataFrame({\n",
    "    'Prodotto': np.random.choice(prodotti, size=20),\n",
    "    'Quantità': quantita,\n",
    "    'Prezzo Unitario': prezzo_unitario,\n",
    "    'Città': citta\n",
    "})\n",
    "\n",
    "# Visualizzare il DataFrame originale\n",
    "print(\"DataFrame originale:\")\n",
    "print(df)\n"
   ]
  },
  {
   "cell_type": "code",
   "execution_count": 2,
   "metadata": {},
   "outputs": [
    {
     "name": "stdout",
     "output_type": "stream",
     "text": [
      "\n",
      "DataFrame con la colonna 'Totale Vendite':\n",
      "      Prodotto  Quantità  Prezzo Unitario    Città  Totale Vendite\n",
      "0   Prodotto B        13               30  Palermo             390\n",
      "1   Prodotto B        16               90  Firenze            1440\n",
      "2   Prodotto D         1               79   Torino              79\n",
      "3   Prodotto D         4               89   Napoli             356\n",
      "4   Prodotto C         4               57  Firenze             228\n",
      "5   Prodotto D         8               74   Napoli             592\n",
      "6   Prodotto A        10               92     Roma             920\n",
      "7   Prodotto D        19               98     Roma            1862\n",
      "8   Prodotto E         5               59  Palermo             295\n",
      "9   Prodotto B         7               39   Genova             273\n",
      "10  Prodotto C        13               29   Genova             377\n",
      "11  Prodotto E         2               29  Bologna              58\n",
      "12  Prodotto D         7               24  Venezia             168\n",
      "13  Prodotto E         8               49  Palermo             392\n",
      "14  Prodotto E        15               42   Milano             630\n",
      "15  Prodotto E        18               75  Palermo            1350\n",
      "16  Prodotto D         6               19   Verona             114\n",
      "17  Prodotto E        14               67  Venezia             938\n",
      "18  Prodotto E         9               42   Milano             378\n",
      "19  Prodotto E        10               41   Milano             410\n"
     ]
    }
   ],
   "source": [
    "# Aggiungere una colonna \"Totale Vendite\"\n",
    "df['Totale Vendite'] = df['Quantità'] * df['Prezzo Unitario']\n",
    "print(\"\\nDataFrame con la colonna 'Totale Vendite':\")\n",
    "print(df)\n"
   ]
  },
  {
   "cell_type": "code",
   "execution_count": 5,
   "metadata": {},
   "outputs": [
    {
     "name": "stdout",
     "output_type": "stream",
     "text": [
      "\n",
      "Totale vendite per prodotto:\n",
      "     Prodotto  Totale Vendite\n",
      "0  Prodotto A             920\n",
      "1  Prodotto B            2103\n",
      "2  Prodotto C             605\n",
      "3  Prodotto D            3171\n",
      "4  Prodotto E            4451\n"
     ]
    }
   ],
   "source": [
    "# Raggruppare i dati per Prodotto e calcolare il totale delle vendite per ciascun prodotto\n",
    "vendite_per_prodotto = df.groupby('Prodotto')['Totale Vendite'].sum().reset_index()\n",
    "print(\"\\nTotale vendite per prodotto:\")\n",
    "print(vendite_per_prodotto)\n"
   ]
  },
  {
   "cell_type": "code",
   "execution_count": 6,
   "metadata": {},
   "outputs": [
    {
     "name": "stdout",
     "output_type": "stream",
     "text": [
      "\n",
      "Il prodotto più venduto in termini di Quantità è: Prodotto E\n"
     ]
    }
   ],
   "source": [
    "# Trovare il prodotto più venduto in termini di Quantità\n",
    "prodotto_piu_venduto = df.groupby('Prodotto')['Quantità'].sum().idxmax()\n",
    "print(f\"\\nIl prodotto più venduto in termini di Quantità è: {prodotto_piu_venduto}\")\n"
   ]
  },
  {
   "cell_type": "code",
   "execution_count": 12,
   "metadata": {},
   "outputs": [
    {
     "name": "stdout",
     "output_type": "stream",
     "text": [
      "\n",
      "La città con il maggior volume di vendite totali è: Roma\n"
     ]
    }
   ],
   "source": [
    "# Identificare la città con il maggior volume di vendite totali\n",
    "citta_maggior_vendite = df.groupby('Città')['Totale Vendite'].sum().idxmax()\n",
    "print(f\"\\nLa città con il maggior volume di vendite totali è: {citta_maggior_vendite}\")\n"
   ]
  },
  {
   "cell_type": "code",
   "execution_count": 14,
   "metadata": {},
   "outputs": [
    {
     "name": "stdout",
     "output_type": "stream",
     "text": [
      "\n",
      "DataFrame con vendite superiori a 1000 euro:\n",
      "      Prodotto  Quantità  Prezzo Unitario    Città  Totale Vendite\n",
      "1   Prodotto B        16               90  Firenze            1440\n",
      "7   Prodotto D        19               98     Roma            1862\n",
      "15  Prodotto E        18               75  Palermo            1350\n"
     ]
    }
   ],
   "source": [
    "# Creare un nuovo DataFrame che mostri solo le vendite superiori a un certo valore (es., 1000 euro)\n",
    "vendite_superiori_1000 = df[df['Totale Vendite'] > 1000]\n",
    "print(\"\\nDataFrame con vendite superiori a 1000 euro:\")\n",
    "print(vendite_superiori_1000)\n",
    "\n"
   ]
  },
  {
   "cell_type": "code",
   "execution_count": 21,
   "metadata": {},
   "outputs": [
    {
     "name": "stdout",
     "output_type": "stream",
     "text": [
      "\n",
      "DataFrame ordinato per 'Totale Vendite' in ordine decrescente:\n",
      "Città\n",
      "Roma       2782\n",
      "Palermo    2427\n",
      "Firenze    1668\n",
      "Milano     1418\n",
      "Venezia    1106\n",
      "Napoli      948\n",
      "Genova      650\n",
      "Verona      114\n",
      "Torino       79\n",
      "Bologna      58\n",
      "Name: Totale Vendite, dtype: int32\n"
     ]
    }
   ],
   "source": [
    "# Ordinare il DataFrame originale per la colonna \"Totale Vendite\" in ordine decrescente\n",
    "grouped=df.groupby(\"Città\")[\"Totale Vendite\"].sum()\n",
    "df_ordinato = grouped.sort_values(ascending=False)\n",
    "print(\"\\nDataFrame ordinato per 'Totale Vendite' in ordine decrescente:\")\n",
    "print(df_ordinato)\n"
   ]
  },
  {
   "cell_type": "code",
   "execution_count": 22,
   "metadata": {},
   "outputs": [
    {
     "name": "stdout",
     "output_type": "stream",
     "text": [
      "\n",
      "Numero di vendite per ogni città:\n",
      "Città\n",
      "Palermo    4\n",
      "Milano     3\n",
      "Firenze    2\n",
      "Napoli     2\n",
      "Genova     2\n",
      "Roma       2\n",
      "Venezia    2\n",
      "Torino     1\n",
      "Bologna    1\n",
      "Verona     1\n",
      "Name: count, dtype: int64\n"
     ]
    }
   ],
   "source": [
    "# Visualizzare il numero di vendite per ogni città\n",
    "numero_vendite_per_citta = df['Città'].value_counts()\n",
    "print(\"\\nNumero di vendite per ogni città:\")\n",
    "print(numero_vendite_per_citta)\n"
   ]
  }
 ],
 "metadata": {
  "kernelspec": {
   "display_name": "Python 3",
   "language": "python",
   "name": "python3"
  },
  "language_info": {
   "codemirror_mode": {
    "name": "ipython",
    "version": 3
   },
   "file_extension": ".py",
   "mimetype": "text/x-python",
   "name": "python",
   "nbconvert_exporter": "python",
   "pygments_lexer": "ipython3",
   "version": "3.13.0"
  }
 },
 "nbformat": 4,
 "nbformat_minor": 2
}
