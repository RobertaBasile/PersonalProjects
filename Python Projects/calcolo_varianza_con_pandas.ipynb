{
 "cells": [
  {
   "cell_type": "markdown",
   "metadata": {},
   "source": [
    "# mostrare la media delle vendite di ogni combinazione di Regione e Prodotto.\n",
    "# calcolo varianza"
   ]
  },
  {
   "cell_type": "code",
   "execution_count": null,
   "metadata": {},
   "outputs": [],
   "source": [
    "import pandas as pd\n",
    "import numpy as np\n",
    "\n",
    "# Dati forniti\n",
    "data = {\n",
    "    'Regione': ['Nord', 'Sud', 'Nord', 'Est', 'Ovest', 'Sud', 'Est', 'Ovest'],\n",
    "    'Prodotto': ['A', 'A', 'B', 'B', 'A', 'B', 'A', 'B'],\n",
    "    'Vendite': [100, 150, 200, 250, 300, 350, 400, 450]\n",
    "}\n",
    "\n",
    "df = pd.DataFrame(data)\n",
    "\n",
    "# Visualizzare il DataFrame originale\n",
    "print(\"DataFrame originale:\")\n",
    "print(df)\n"
   ]
  },
  {
   "cell_type": "code",
   "execution_count": null,
   "metadata": {},
   "outputs": [],
   "source": [
    "# Calcolare la media delle vendite per ogni combinazione di Regione e Prodotto\n",
    "pivot_table = df.pivot_table(values='Vendite', index='Regione', columns='Prodotto', aggfunc='mean')\n",
    "\n",
    "# Riempire i valori mancanti con 0\n",
    "pivot_table = pivot_table.fillna(0)\n",
    "\n",
    "# Visualizzare la tabella pivot con i valori mancanti riempiti\n",
    "print(\"\\nTabella pivot con i valori mancanti riempiti:\")\n",
    "print(pivot_table)\n"
   ]
  },
  {
   "cell_type": "code",
   "execution_count": null,
   "metadata": {},
   "outputs": [],
   "source": [
    "# Funzione per calcolare la varianza delle vendite\n",
    "def calcola_varianza(df, index, columns, values):\n",
    "    pivot_table_varianza = df.pivot_table(values=values, index=index, columns=columns, aggfunc=np.var)\n",
    "    pivot_table_varianza = pivot_table_varianza.fillna(0)\n",
    "    return pivot_table_varianza\n",
    "\n",
    "# Calcolare la varianza delle vendite per ogni combinazione di Regione e Prodotto\n",
    "varianza_table = calcola_varianza(df, index='Regione', columns='Prodotto', values='Vendite')\n",
    "\n",
    "# Visualizzare la tabella della varianza\n",
    "print(\"\\nTabella della varianza delle vendite:\")\n",
    "print(varianza_table)"
   ]
  }
 ],
 "metadata": {
  "kernelspec": {
   "display_name": "Python 3",
   "language": "python",
   "name": "python3"
  },
  "language_info": {
   "codemirror_mode": {
    "name": "ipython",
    "version": 3
   },
   "file_extension": ".py",
   "mimetype": "text/x-python",
   "name": "python",
   "nbconvert_exporter": "python",
   "pygments_lexer": "ipython3",
   "version": "3.13.0"
  }
 },
 "nbformat": 4,
 "nbformat_minor": 2
}
